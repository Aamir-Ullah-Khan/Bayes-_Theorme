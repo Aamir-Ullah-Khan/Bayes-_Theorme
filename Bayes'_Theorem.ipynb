{
  "nbformat": 4,
  "nbformat_minor": 0,
  "metadata": {
    "colab": {
      "name": "Bayes'_Theorem.ipynb",
      "version": "0.3.2",
      "provenance": [],
      "collapsed_sections": [],
      "include_colab_link": true
    },
    "kernelspec": {
      "name": "python3",
      "display_name": "Python 3"
    }
  },
  "cells": [
    {
      "cell_type": "markdown",
      "metadata": {
        "id": "view-in-github",
        "colab_type": "text"
      },
      "source": [
        "<a href=\"https://colab.research.google.com/github/Aamir-Ullah-Khan/Bayes-_Theorme/blob/master/Bayes'_Theorem.ipynb\" target=\"_parent\"><img src=\"https://colab.research.google.com/assets/colab-badge.svg\" alt=\"Open In Colab\"/></a>"
      ]
    },
    {
      "metadata": {
        "id": "TLx5RyQhptfc",
        "colab_type": "code",
        "colab": {}
      },
      "cell_type": "code",
      "source": [
        ""
      ],
      "execution_count": 0,
      "outputs": []
    },
    {
      "metadata": {
        "id": "jCZIdYTHpuhr",
        "colab_type": "text"
      },
      "cell_type": "markdown",
      "source": [
        "  >>>>>> **Bayes' Theorem**\n",
        "  \n",
        "  Bayes’ Theorem is a way of finding a probability when we know certain other probabilities.  \n",
        "  \n",
        "  >>>>**P(A|B)= [P(A)*P(B|A)] / P(B)**.    \n",
        "  \n",
        "  Which tells us:\tProbability of occurrence of A given that B already occured, written as P(A|B),  \n",
        "When we know:\t \tProbability of occurrence of B given that A already occured, written as P(B|A)  \n",
        " \t \tand Probability of occurrence of A written as  P(A)  \n",
        " \t \tand Probability of occurrence of B written as  P(B)  \n",
        "    **Example for Code : Art Competition**    \n",
        "    The Art Competition has entries from three painters: Pam, Pia and Pablo.   \n",
        "    \n",
        "\n",
        "1.   Pam put in \"X\" paintings, \"Y\"% of her works have won First Prize.\n",
        "2.   Pia put in \"M\" paintings, N% of her works have won First Prize.  \n",
        "3.   Pablo put in \"P\" paintings, \"Q\"% of his works have won First Prize.  \n",
        "What is the chance that Pam will win First Prize?  \n",
        "**Solution**    \n",
        "We take from user the values of above mentioned varaibles. For example: \n",
        "Suppose user enters for Pam : Number of paintings =15 and 4% of her work won first prize.   \n",
        "Suppose user enters for Pia : Number of paintings =5 and 6% of her work won first prize.     \n",
        "Suppose user enters for Pablo : Number of paintings =10 and 3% of his work won first prize.   \n",
        "Then, in order to find whose chance of winning are we intrested to find out (given by user).  \n",
        "For exapmle user is intrested in finding  Pam's chance of winning first position then:   \n",
        "**P(Pam|First) = A / B **   \n",
        "Where **A= P(Pam)P(First|Pam) **   \n",
        "and **B=P(Pam)P(First|Pam) + P(Pia)P(First|Pia) + P(Pablo)P(First|Pablo)**  \n",
        "\n",
        "      P(Pam|First) = (15*4%) / (15*4%)*(5*6%)*(10*3)  \n",
        "      P(Pam|First) = 0.6 / 0.6 + 0.3 + 0.3 = 0.5 = 50%   \n",
        "  Pam isn't the most successful artist, but she did put in lots of entries.    \n",
        "  \n",
        "      \n",
        "\n",
        "\n",
        "\n",
        "\n",
        "\n",
        "    \n",
        "    \n",
        "  \n",
        "  \n",
        "  "
      ]
    },
    {
      "metadata": {
        "id": "y1QY692Tzdli",
        "colab_type": "code",
        "colab": {}
      },
      "cell_type": "code",
      "source": [
        "import math\n",
        "\n",
        "print(\"*******Bayes' Theorem Example*******\")\n",
        "option = str('y')\n",
        "while option == 'y':\n",
        "    print(\"Please input number of paintings entered in competition by Pam\")\n",
        "    PamPaintings = int(input())\n",
        "    if PamPaintings < 0:\n",
        "        print(\" Invalid Entry\")\n",
        "        break\n",
        "    print(\"Please input the probability of Pam securing first position\")\n",
        "    PamFirst = float(input())\n",
        "    if PamFirst<0 and PamFirst>1:\n",
        "        print(\" Invalid Entry\")\n",
        "        break\n",
        "    print(\"Please input number of paintings entered in competition by Pia\")\n",
        "    PiaPaintings = int(input())\n",
        "    if PiaPaintings < 0:\n",
        "        print(\" Invalid Entry\")\n",
        "        break\n",
        "    print(\"Please input the probability of Pia securing first position\")\n",
        "    PiaFirst = float(input())\n",
        "    if PiaFirst < 0 and PiaFirst > 1:\n",
        "        print(\" Invalid Entry\")\n",
        "        break\n",
        "    print(\"Please input number of paintings entered in competition by Pablo\")\n",
        "    PabloPaintings = int(input())\n",
        "    if PabloPaintings < 0:\n",
        "        print(\" Invalid Entry\")\n",
        "        break\n",
        "    print(\"Please input the probability of Pablo securing first position\")\n",
        "    PabloFirst = float(input())\n",
        "    if PabloFirst < 0 and PabloFirst > 1:\n",
        "        print(\" Invalid Entry\")\n",
        "        break\n",
        "    print(\"Please select whose probability of securing 1st position you want to find out:\")\n",
        "    print(\"Select: \\n   pam for pam\\n   pia for pia\\n pablo for pablo:\")\n",
        "    choice = str(input())\n",
        "    print(choice)\n",
        "    if choice in ['pam', 'Pam', 'PAM']:\n",
        "        prob_pamfirst = (PamPaintings* PamFirst) / ((PamPaintings * PamFirst)+(PiaPaintings * PiaFirst)+ (PabloPaintings *PabloFirst))\n",
        "        print(\"The probability of Pam's securing first place is = \", prob_pamfirst*100, \"%\")\n",
        "    elif choice in ['pia', 'Pia', 'PİA']:\n",
        "        prob_piafirst = (PiaPaintings * PiaFirst) / (\n",
        "                    (PamPaintings * PamFirst) + (PiaPaintings * PiaFirst) + (PabloPaintings * PabloFirst))\n",
        "        print(\"The probability of Pam's securing first place is = \", prob_piafirst * 100, \"%\")\n",
        "    elif choice in ['pablo', 'Pablo', 'PABLO']:\n",
        "        prob_pablofirst = (PabloPaintings * PabloFirst) / (\n",
        "                    (PamPaintings * PamFirst) + (PiaPaintings * PiaFirst) + (PabloPaintings * PabloFirst))\n",
        "        print(\"The probability of Pablo's securing first place is = \", prob_pablofirst * 100, \"%\")\n",
        "    else:\n",
        "        print(\"Wrong Entry. Please select again\")\n",
        "\n",
        "    print(\"If you want to continue enter y or else any other character\")  # To continue while loop\n",
        "    option = input()\n",
        "input(\"Press any key to close the code\")\n"
      ],
      "execution_count": 0,
      "outputs": []
    }
  ]
}